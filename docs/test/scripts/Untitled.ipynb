{
 "cells": [
  {
   "cell_type": "code",
   "execution_count": null,
   "id": "8b49d1be-d90a-4343-9639-bc7128c09e4c",
   "metadata": {
    "tags": []
   },
   "outputs": [],
   "source": [
    "#!pip install ../../../../deepdoctection-fork --force-reinstall"
   ]
  },
  {
   "cell_type": "raw",
   "id": "7599765e-0e3e-4d8c-a033-67b5d40f5ffc",
   "metadata": {
    "tags": []
   },
   "source": [
    "Cell 13 (below fh.namespaces) should work. I assume that the \"AttachmentIndex\" code isn't actually in the script tag where I think it is...\n",
    "\n",
    "It's time to stop filtering out the field types that you don't want (\"delete\", \"example\", \"tips\", see get_fields_from_template) and start selecting only the ones you *do* want. Because you know enough about what you do want to start doing that\n",
    "\n",
    "Cross-reference attachment manifest list with catalog['/Names']['/EmbeddedFiles']['/Names'] ['/Desc']\n",
    "    That join will get you to where you can label a document with a section name\n",
    "    The labels in the manifest are present somewhere in the XML. This can be used to find the associated fieldname"
   ]
  },
  {
   "cell_type": "code",
   "execution_count": 1,
   "id": "e452e40a-4255-4aef-a77f-99ea8b72ff06",
   "metadata": {
    "tags": []
   },
   "outputs": [],
   "source": [
    "#import deepdoctection as dd\n",
    "#from deepdoctection.pipe.form import FormHandler\n",
    "from pypdf import PdfReader\n",
    "import re"
   ]
  },
  {
   "cell_type": "code",
   "execution_count": 34,
   "id": "e818db32-e7d8-45c3-bf4a-6d6642d17ccf",
   "metadata": {
    "tags": []
   },
   "outputs": [],
   "source": [
    "path = '../pdf/normal.pdf'\n",
    "path = '../pdf/estar_nivd.pdf'\n",
    "#path = '../pdf/acroform.pdf'"
   ]
  },
  {
   "cell_type": "code",
   "execution_count": 35,
   "id": "d751046b-e609-46fc-b276-4a4292caa04f",
   "metadata": {
    "tags": []
   },
   "outputs": [],
   "source": [
    "#analyzer = dd.get_dd_analyzer()\n",
    "#df = analyzer.analyze(path=path)\n",
    "#df.reset_state()\n",
    "#pdf = analyzer.pdf_reader"
   ]
  },
  {
   "cell_type": "code",
   "execution_count": 36,
   "id": "7ff2e86c-58e5-45bf-9541-40d0cc163a09",
   "metadata": {
    "tags": []
   },
   "outputs": [],
   "source": [
    "pdf = PdfReader(open(path, 'rb'))"
   ]
  },
  {
   "cell_type": "code",
   "execution_count": 71,
   "id": "c0441757-d3e7-4d8c-9ffd-0a672c92d1e0",
   "metadata": {
    "tags": []
   },
   "outputs": [],
   "source": [
    "from pdfminer.pdfparser import PDFParser\n",
    "from pdfminer.pdfdocument import PDFDocument\n",
    "from pdfminer.pdftypes import resolve1\n",
    "import xml.etree.ElementTree as ET\n",
    "import re\n",
    "import json\n",
    "\n",
    "class FormHandler:\n",
    "    \"\"\"\n",
    "    This is functional but a bit of a mess:\n",
    "    \n",
    "    1) There are bits of code scattered around that apply only to eSTAR docs\n",
    "    2) The list of objects being output by process_acroform and process_xfa match, but it's unclear that they're what's needed\n",
    "    3) The objects currently being put into the result object are \n",
    "    \"\"\"\n",
    "    def __init__(self, pdf):\n",
    "        pdf_bytes = pdf.stream.raw\n",
    "        parser = PDFParser(pdf_bytes)\n",
    "        doc = PDFDocument(parser)\n",
    "        catalog = resolve1(doc.catalog)\n",
    "\n",
    "        self._pdf = pdf\n",
    "        self.formtype = None\n",
    "        self.result = None\n",
    "        self.attachments = self.get_attachments_from_catalog()\n",
    "\n",
    "        if 'AcroForm' in catalog.keys():\n",
    "            acroform = resolve1(catalog['AcroForm'])\n",
    "            if 'XFA' in acroform.keys():\n",
    "                self.formtype = 'XFA'\n",
    "                xfa = resolve1(acroform[\"XFA\"])\n",
    "                xml = self.get_xfa_xml(xfa)\n",
    "                self.xml = xml\n",
    "                self.result = self.process_xfa(xml)\n",
    "                self.get_attachments_from_manifest()\n",
    "                self.label_attachments()\n",
    "\n",
    "            elif 'Fields' in acroform.keys():\n",
    "                self.formtype = 'AcroForm'\n",
    "                self.result = self.process_acroform(pdf)\n",
    "\n",
    "    def label_attachments(self):\n",
    "        \"\"\"\n",
    "        Applies only to eSTAR\n",
    "        \"\"\"\n",
    "        for fn, info in self.attachments.items():\n",
    "            cur = next((i for i in self.result['t_fields'].values() if i['name_tag']==info['desc']), None)\n",
    "            self.attachments[fn]['section'] = cur['section']\n",
    "\n",
    "    def get_attachments_from_catalog(self):\n",
    "        \"\"\"\n",
    "        Should apply to all PDFs\n",
    "        \"\"\"\n",
    "        result = {}\n",
    "        catalog = self._pdf.trailer['/Root']\n",
    "        attachments = [x for n, x in enumerate(catalog['/Names']['/EmbeddedFiles']['/Names']) if n % 2 == 1]\n",
    "        for item in attachments:\n",
    "            filespec = item.get_object()\n",
    "            desc = filespec['/Desc']\n",
    "            fn = filespec['/F']\n",
    "            pdf_bytes = filespec['/EF']['/F'].get_data()\n",
    "            #result[fn] = {'desc': desc, 'pdf_bytes': pdf_bytes}\n",
    "            result[fn] = {'desc': desc}\n",
    "        return result\n",
    "\n",
    "    def get_attachments_from_manifest(self):\n",
    "        \"\"\"\n",
    "        Hopefully applies to all XFAs but may apply only to eSTAR\n",
    "        \"\"\"\n",
    "        manifest = self.result['t_fields']['AttachmentManifest']['value']\n",
    "        manifest_list = re.findall('<<(.+?)>>', manifest)\n",
    "        for item in manifest_list:\n",
    "            key, val = item.split('|')\n",
    "            self.attachments[key]['path'] = val\n",
    "\n",
    "    def process_acroform(self):\n",
    "        fields = self._pdf.get_fields()\n",
    "        t_fields = {}\n",
    "        for key, val in fields.items():\n",
    "            t_fields[key] = {\n",
    "                \"section\": None,\n",
    "                \"field_name\": key,\n",
    "                \"name\": val['/T'],\n",
    "                \"name_tag\": None if '/V' not in val.keys() else val['/V'],\n",
    "            }\n",
    "\n",
    "        result = {\n",
    "            \"tot_columns\": len(fields),\n",
    "            \"column_names\": list(fields.keys()),\n",
    "            't_fields': t_fields,\n",
    "            \"cell_values\": None,\n",
    "        }\n",
    "        return result\n",
    "\n",
    "    def clean_name(self, s, n=50):\n",
    "        \"\"\"\n",
    "        :param object_file_metadata:\n",
    "        :param deserialized_object:\n",
    "        :param premarket_bucket:\n",
    "\n",
    "        The files from the metadata must be checked first if they are XFA format.\n",
    "        If yes= use Peter's estars script, if no, but it's estar, use estars textract script,\n",
    "        if neither estars nor XFA, use general forms extraction script.\\\n",
    "        These should be filtered down to which files we think will contain forms:\n",
    "            1. Cover Letters\n",
    "            2. Summaries\n",
    "        \"\"\"\n",
    "        result = s.lower()\n",
    "        result = re.sub('[^a-z0-9]+', ' ', result)\n",
    "        result = re.sub(r'\\s+', '_', result.strip())\n",
    "        return result[:n]\n",
    "\n",
    "    def get_fields_from_template(self, elem, namespaces, result={}, parent=None):\n",
    "        \"\"\"\n",
    "        :param elem:\n",
    "        :param namespaces:\n",
    "        :param result:\n",
    "        :param parent:\n",
    "\n",
    "        Recursively parses a template namespace tree from an XFA document, extracting all necessary child elements\n",
    "        (presently forms, subforms, and fields)\n",
    "\n",
    "        As currently written, this function will not work on a generic (non-eSTAR) XFA document, as it relies on the\n",
    "        field names to contain certain information. However, it seems that the data type of the field is contained as \n",
    "        a subelement of the <ui> subelement. Here's the list of all the <ui> subelements:\n",
    "        {'{http://www.xfa.org/schema/xfa-template/3.3/}button',\n",
    "        '{http://www.xfa.org/schema/xfa-template/3.3/}checkButton',\n",
    "        '{http://www.xfa.org/schema/xfa-template/3.3/}choiceList',\n",
    "        '{http://www.xfa.org/schema/xfa-template/3.3/}dateTimeEdit',\n",
    "        '{http://www.xfa.org/schema/xfa-template/3.3/}imageEdit',\n",
    "        '{http://www.xfa.org/schema/xfa-template/3.3/}numericEdit',\n",
    "        '{http://www.xfa.org/schema/xfa-template/3.3/}signature',\n",
    "        '{http://www.xfa.org/schema/xfa-template/3.3/}textEdit'}\n",
    "        \n",
    "        And because it's not possible to rely on the word \"attachment\" being in the field name that won't work going \n",
    "        forward. However, it looks like there's always a <button> tag. Here's the list of all of the subelements (all \n",
    "        levels of the tree) of the eSTAR attachment fields:\n",
    "        {'{http://www.xfa.org/schema/xfa-template/3.3/}assist',\n",
    "        '{http://www.xfa.org/schema/xfa-template/3.3/}bind',\n",
    "        '{http://www.xfa.org/schema/xfa-template/3.3/}border',\n",
    "        '{http://www.xfa.org/schema/xfa-template/3.3/}button',\n",
    "        '{http://www.xfa.org/schema/xfa-template/3.3/}caption',\n",
    "        '{http://www.xfa.org/schema/xfa-template/3.3/}color',\n",
    "        '{http://www.xfa.org/schema/xfa-template/3.3/}edge',\n",
    "        '{http://www.xfa.org/schema/xfa-template/3.3/}event',\n",
    "        '{http://www.xfa.org/schema/xfa-template/3.3/}fill',\n",
    "        '{http://www.xfa.org/schema/xfa-template/3.3/}font',\n",
    "        '{http://www.xfa.org/schema/xfa-template/3.3/}para',\n",
    "        '{http://www.xfa.org/schema/xfa-template/3.3/}script',\n",
    "        '{http://www.xfa.org/schema/xfa-template/3.3/}speak',\n",
    "        '{http://www.xfa.org/schema/xfa-template/3.3/}text',\n",
    "        '{http://www.xfa.org/schema/xfa-template/3.3/}ui',\n",
    "        '{http://www.xfa.org/schema/xfa-template/3.3/}value'}\n",
    "        \n",
    "        The <script> tag is where I'm currently getting useful information about what section of the document an \n",
    "        attachment is attached to. I'm not sure where that sits in the hierarchy under the <field> tag, but it's \n",
    "        there somewhere. \n",
    "        \n",
    "        I also don't know if the AttachmentManifest is generalizable to all XFA documents, but a boy can dream, can't he...\n",
    "        \"\"\"\n",
    "\n",
    "        tag_name = elem.tag.split(\"}\")[-1]\n",
    "        elem_name = tag_name if \"name\" not in elem.attrib.keys() else elem.attrib[\"name\"]\n",
    "        if (\n",
    "            tag_name == \"subform\"\n",
    "        ):  # if tag is a subform save its name as the parent of subsequent fields\n",
    "            parent = (\n",
    "                None\n",
    "                if elem_name == \"root\"\n",
    "                else elem_name\n",
    "                if parent is None\n",
    "                else f\"{parent}.{elem_name}\"\n",
    "            )\n",
    "        elif tag_name == \"field\":  # if the tag is a field tag...\n",
    "            # ignore uninteresting element types\n",
    "            if (not re.search(\"delete\", elem_name.lower())\n",
    "                and not re.search(\"example\", elem_name.lower())\n",
    "                and not re.search(\"tips\", elem_name.lower())\n",
    "               ):\n",
    "                if re.search(\"addattachment\", elem_name.lower()):\n",
    "                    tag = 'script'\n",
    "                    cur = elem.find(f\".//template:{tag}\", namespaces)\n",
    "                    try:\n",
    "                        cur = re.sub('[\\n\\r]+', '', cur.text)\n",
    "                        name = re.match('.+\\[AttachmentIndex\\]\\.path \\+ \"(.+?)\"', cur).groups()[0]\n",
    "                        name_tag = re.match('.+\\[AttachmentIndex\\]\\.description \\= \"(.+?)\"', cur).groups()[0]\n",
    "                    except:\n",
    "                        print(tag_name, elem_name)\n",
    "                        print(cur)\n",
    "                        raise\n",
    "                        \n",
    "                else:\n",
    "                    name = \"\"\n",
    "                    name_tags = [\n",
    "                        \"caption\",\n",
    "                        \"toolTip\",\n",
    "                    ]  # field info can come from one of two places\n",
    "                    for tag in name_tags:\n",
    "                        cur = elem.find(f\".//template:{tag}\", namespaces)\n",
    "                        if cur is not None:\n",
    "                            if not len(\n",
    "                                name\n",
    "                            ):  # pull the field name and text from the element text...unless the field name was already found in the other tag type\n",
    "                                name = \"\".join(cur.itertext())\n",
    "                                name_tag = tag\n",
    "\n",
    "                # save field metadata to dictionary\n",
    "                if len(name):\n",
    "                    result[elem_name] = {\n",
    "                        \"section\": parent,\n",
    "                        \"field_name\": elem_name,\n",
    "                        \"name\": name,\n",
    "                        \"name_tag\": name_tag,\n",
    "                    }\n",
    "                    # parse dropdown list values, if necessary\n",
    "                    items = elem.findall(\".//template:items\", namespaces)\n",
    "                    if len(items) == 2:\n",
    "                        result[elem_name][\"items\"] = dict(\n",
    "                            zip(list(items[1].itertext()), list(items[0].itertext()))\n",
    "                        )\n",
    "\n",
    "        # see if there are subelements and recurse into them if necessary\n",
    "        subs = elem.findall(\"*\", namespaces)\n",
    "        if len(subs):\n",
    "            for item in subs:\n",
    "                result = self.get_fields_from_template(item, namespaces, result, parent)\n",
    "        return result\n",
    "\n",
    "    def get_fields_from_dataset(self, fields, datasets, namespaces):\n",
    "        \"\"\"\n",
    "        :param fields:\n",
    "        :param datasets:\n",
    "        :param namespaces:\n",
    "\n",
    "        Reads the field list generated by get_fields_from_template(), finds each of the fields in the dataset namespace, and extracts the vield value\n",
    "        \"\"\"\n",
    "        for field_name, field in fields.items():\n",
    "            elem = datasets.findall(f\".//{field_name}\")\n",
    "            if elem is not None:\n",
    "                for item in elem:\n",
    "                    if item.text is not None:\n",
    "                        if \"items\" in fields[field_name].keys() and len(\n",
    "                            fields[field_name][\"items\"].keys()\n",
    "                        ):\n",
    "                            val = (\n",
    "                                item.text\n",
    "                                if item.text not in fields[field_name][\"items\"].keys()\n",
    "                                else fields[field_name][\"items\"][item.text]\n",
    "                            )\n",
    "                        else:\n",
    "                            val = item.text\n",
    "                        if \"value\" in fields[field_name].keys():\n",
    "                            if not isinstance(fields[field_name][\"value\"], list):\n",
    "                                fields[field_name][\"value\"] = [fields[field_name][\"value\"]]\n",
    "                            fields[field_name][\"value\"].append(val)\n",
    "                        else:\n",
    "                            fields[field_name][\"value\"] = val\n",
    "        return fields\n",
    "\n",
    "    def get_xfa_xml(self, xfa):\n",
    "        objs = [resolve1(x).get_data().decode() for n, x in enumerate(xfa) if n % 2 == 1]\n",
    "        xstr = \"\".join(objs)\n",
    "        root = ET.fromstring(xstr)\n",
    "        return root\n",
    "\n",
    "    def process_xfa(self, root):\n",
    "        \"\"\"\n",
    "        :param pdf\n",
    "\n",
    "        Extract all field information from an XFA file\n",
    "        \"\"\"\n",
    "        namespaces = {}\n",
    "        for elem in list(root):\n",
    "            ns, tag = re.match(r'\\{(.+)\\}(.+)', elem.tag).groups()\n",
    "            namespaces[tag] = ns\n",
    "        self.namespaces = namespaces\n",
    "\n",
    "        # Get fields from template namespace\n",
    "        template = root.find(\".//template:template\", namespaces)\n",
    "        t_fields = self.get_fields_from_template(template, namespaces)\n",
    "\n",
    "        self.t_fields = t_fields\n",
    "\n",
    "        # Get form values from dataset namespace\n",
    "        datasets = root.find(\".//datasets:datasets\", namespaces)\n",
    "        d_fields = self.get_fields_from_dataset(t_fields, datasets, namespaces)\n",
    "\n",
    "        self.d_fields = d_fields\n",
    "\n",
    "        # Create list of field values and return dict result\n",
    "        column_names = [\n",
    "            field[\"field_name\"] for field in d_fields.values() if \"value\" in field.keys()\n",
    "        ]\n",
    "        cell_values = {\n",
    "            field[\"field_name\"]: field[\"value\"]\n",
    "            for field in d_fields.values()\n",
    "            if \"value\" in field.keys()\n",
    "        }\n",
    "\n",
    "        result = {\n",
    "            #\"form_id\": doc_id,\n",
    "            #\"form_pages\": pages,\n",
    "            \"tot_columns\": len(column_names),\n",
    "            \"column_names\": column_names,\n",
    "            't_fields' : t_fields,\n",
    "            \"cell_values\": json.dumps(cell_values),\n",
    "            #\"bucket_name\": bucket,\n",
    "            #\"object_key\": doc_id,\n",
    "        }\n",
    "        return result"
   ]
  },
  {
   "cell_type": "code",
   "execution_count": 73,
   "id": "2b531998-4b02-4b57-b201-03ffbb8b1976",
   "metadata": {
    "tags": []
   },
   "outputs": [],
   "source": [
    "fh = FormHandler(pdf)"
   ]
  },
  {
   "cell_type": "code",
   "execution_count": 74,
   "id": "cfb69faf-49f5-4d41-9147-61d113308881",
   "metadata": {
    "tags": []
   },
   "outputs": [
    {
     "data": {
      "text/plain": [
       "{'Fake eSTAR cover letter.pdf': {'desc': 'Administrative Documentation | Cover Letter',\n",
       "  'path': '/CHAPTER 1/CH1.01/',\n",
       "  'section': 'CoverLetter'},\n",
       " 'Fake eSTAR Device Description.pdf': {'desc': 'Device Description | Comprehensive Device Description and Principle of Operation',\n",
       "  'path': '/CHAPTER 2/CH2.04/CH2.04.01/',\n",
       "  'section': 'DeviceDescription.Description'},\n",
       " 'Spurious Correlation.xlsx': {'desc': 'Predicates and Substantial Equivalence | Substantial Equivalence Comparison',\n",
       "  'path': '/CHAPTER 2/CH2.04/CH2.04.05/',\n",
       "  'section': 'PredicatesSE.SubstantialEquivalence'},\n",
       " 'Fake eSTAR Description of Device Packaging.pdf': {'desc': 'Labeling | Package Labels',\n",
       "  'path': '/CHAPTER 5/CH5.02/',\n",
       "  'section': 'Labeling.Packaging'},\n",
       " 'Fake eSTAR bench testing - Other Non-Clinical Evidence.pdf': {'desc': 'Performance Testing | Bench Testing',\n",
       "  'path': '/CHAPTER 3/CH3.08/',\n",
       "  'section': 'PerformanceTesting.BenchTesting'},\n",
       " 'Fake eSTAR bench testing - UsabilityHuman Factors.pdf': {'desc': 'Performance Testing | Bench Testing',\n",
       "  'path': '/CHAPTER 3/CH3.05/CH3.05.11/',\n",
       "  'section': 'PerformanceTesting.BenchTesting'},\n",
       " 'Table Test.pdf': {'desc': 'References | Literature',\n",
       "  'path': '/CHAPTER 3/CH3.06/',\n",
       "  'section': 'References'},\n",
       " 'Fake eSTAR User Fee form.pdf': {'desc': 'Administrative Documentation | User Fee Form',\n",
       "  'path': '/CHAPTER 1/CH1.09/',\n",
       "  'section': 'AdministrativeDocumentation'}}"
      ]
     },
     "execution_count": 74,
     "metadata": {},
     "output_type": "execute_result"
    }
   ],
   "source": [
    "fh.attachments"
   ]
  },
  {
   "cell_type": "code",
   "execution_count": 46,
   "id": "d08d9066-64db-423a-8016-c1aaa7ce09d4",
   "metadata": {
    "tags": []
   },
   "outputs": [],
   "source": [
    "fn = 'Fake eSTAR cover letter.pdf'"
   ]
  },
  {
   "cell_type": "code",
   "execution_count": 49,
   "id": "f61076c2-0d8f-4967-b4e4-837930b0f7e5",
   "metadata": {
    "tags": []
   },
   "outputs": [
    {
     "data": {
      "text/plain": [
       "{'section': 'CoverLetter',\n",
       " 'field_name': 'CLAddAttachment110',\n",
       " 'name': '|/CHAPTER 1/CH1.01/',\n",
       " 'name_tag': 'Administrative Documentation | Cover Letter'}"
      ]
     },
     "execution_count": 49,
     "metadata": {},
     "output_type": "execute_result"
    }
   ],
   "source": [
    "#json.loads(fh.result['cell_values'])\n",
    "next((i for i in fh.result['t_fields'].values() if i['name_tag']==fh.attachments[fn]['desc']), None)"
   ]
  },
  {
   "cell_type": "code",
   "execution_count": 22,
   "id": "186b056f-7c89-419e-b31b-15b10fb724c5",
   "metadata": {
    "tags": []
   },
   "outputs": [],
   "source": [
    "result = {}\n",
    "catalog = fh._pdf.trailer['/Root']\n",
    "attachments = [x for n, x in enumerate(catalog['/Names']['/EmbeddedFiles']['/Names']) if n % 2 == 1]\n",
    "for item in attachments:\n",
    "    filespec = item.get_object()\n",
    "    desc = filespec['/Desc']\n",
    "    fn = filespec['/F']\n",
    "    pdf_bytes = filespec['/EF']['/F'].get_data()\n",
    "    result[fn] = {'desc': desc, 'pdf_bytes': pdf_bytes}"
   ]
  },
  {
   "cell_type": "code",
   "execution_count": 24,
   "id": "4c500295-70b0-4aec-bd8b-7d7faf84178e",
   "metadata": {
    "tags": []
   },
   "outputs": [
    {
     "data": {
      "text/plain": [
       "dict_keys(['desc', 'pdf_bytes'])"
      ]
     },
     "execution_count": 24,
     "metadata": {},
     "output_type": "execute_result"
    }
   ],
   "source": [
    "result['Fake eSTAR cover letter.pdf'].keys()"
   ]
  },
  {
   "cell_type": "code",
   "execution_count": null,
   "id": "04b907da-b53a-4cc1-9b31-3725997a146a",
   "metadata": {
    "tags": []
   },
   "outputs": [],
   "source": [
    "xml = fh.xml\n",
    "for fld in xml.findall('.//template:field', fh.namespaces):\n",
    "    if 'name' in fld.attrib.keys() and re.match('.*AddAttachment.*', fld.attrib['name']):\n",
    "        script = fld.findall('.//template:script', fh.namespaces)\n",
    "        for item in script:\n",
    "            if re.search('AttachmentIndex', item.text):\n",
    "                m = re.match('.+\\[AttachmentIndex\\]\\.path \\+ \"(.+?)\"', item.text, re.DOTALL)\n",
    "                if m:\n",
    "                    print(m.groups()[0])\n",
    "                m = re.match('.+\\[AttachmentIndex\\]\\.description \\= \"(.+?)\"', item.text, re.DOTALL)\n",
    "                if m:\n",
    "                    print(m.groups()[0])"
   ]
  },
  {
   "cell_type": "code",
   "execution_count": null,
   "id": "565aed22",
   "metadata": {},
   "outputs": [],
   "source": []
  }
 ],
 "metadata": {
  "kernelspec": {
   "display_name": "conda_python3",
   "language": "python",
   "name": "conda_python3"
  },
  "language_info": {
   "codemirror_mode": {
    "name": "ipython",
    "version": 3
   },
   "file_extension": ".py",
   "mimetype": "text/x-python",
   "name": "python",
   "nbconvert_exporter": "python",
   "pygments_lexer": "ipython3",
   "version": "3.10.14"
  }
 },
 "nbformat": 4,
 "nbformat_minor": 5
}
